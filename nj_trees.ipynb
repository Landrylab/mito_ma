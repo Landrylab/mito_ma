{
 "cells": [
  {
   "cell_type": "code",
   "execution_count": null,
   "id": "bb00cd2c-7daf-4532-a23a-a8ca4d06ddc6",
   "metadata": {},
   "outputs": [],
   "source": [
    "library(ape)"
   ]
  },
  {
   "cell_type": "code",
   "execution_count": null,
   "id": "7c3247d8-c31e-49be-8a14-9d2d536e86ea",
   "metadata": {},
   "outputs": [],
   "source": [
    "#list gene alignment fasta files to parse\n",
    "S = c('atp6.anchor.aln.fasta',\n",
    "      'cob.spliced.aln.MSH-604.fasta',\n",
    "      'atp9.anchor.aln.fasta',\n",
    "      'rps3.anchor.aln.fasta',\n",
    "      'cox2.anchor.aln.fasta',\n",
    "      'cox3.anchor.aln.fasta',\n",
    "      'cox1.spliced.aln.fasta',\n",
    "      'atp8.anchor.aln.fasta',\n",
    "      'ai1.aln.fasta',\n",
    "      'ai3beta.aln.fasta',\n",
    "      'ai3gamma.aln.fasta',\n",
    "      'ai5alpha.aln.fasta',\n",
    "      'ai5beta.aln.fasta',\n",
    "      'ai5gamma.aln.fasta',\n",
    "      'bi1alpha.aln.fasta',\n",
    "      'bi1beta.aln.fasta',\n",
    "      'bi2.aln.fasta',\n",
    "      'bi3.aln.fasta',\n",
    "      'ORF1.aln.fasta',\n",
    "      'cox3_orf.aln.fasta',\n",
    "      'atp6_orf.aln.fasta')\n",
    "\n",
    "# define index to fetch the label for each filename in the list\n",
    "LI = c(rep(3, 8), rep(2, 13))\n",
    "# define scale bar length for each filename in the list\n",
    "SC = c(rep(0.005, 8), c(0.0015, 0.05, 0.01, 0.005, 0.05, 0.005, 0.02, 0.02, 0.02, 0.05, 0.05, 0.01, 0.005))"
   ]
  },
  {
   "cell_type": "code",
   "execution_count": null,
   "id": "44ab4921-3451-4467-8814-9f886e67f55a",
   "metadata": {},
   "outputs": [],
   "source": [
    "# compute, plot and export NJ trees\n",
    "for(i in seq(1,21)){\n",
    "\n",
    "    s = S[i]\n",
    "    li = LI[i]\n",
    "    sc = SC[i]\n",
    "    \n",
    "    seq <- read.dna(paste('/mnt/HDD3/mito_nanopore/muscle/aln/', s, sep=''), format='fasta')\n",
    "    \n",
    "    svg(paste('/mnt/HDD3/mito_nanopore/nj_trees/', s, '.svg', sep=''), 5, 5)\n",
    "    par(xpd=TRUE, mar=rep(1, 4))\n",
    "    \n",
    "    t <- nj(dist.dna(seq))\n",
    "    L = strsplit(t$tip.label, '\\\\.')\n",
    "    newL = c()\n",
    "    for(l in L){\n",
    "        newL = c(newL, paste('  ', l[li], '  ', sep=''))\n",
    "    }\n",
    "    t$tip.label <- newL\n",
    "    plot.phylo(t, type='phylogram', cex=1)\n",
    "    add.scale.bar(sc*2, 1)\n",
    "    title(paste(i, '. ', strsplit(s, '\\\\.')[[1]][1], sep=''))\n",
    "\n",
    "    dev.off()\n",
    "}"
   ]
  }
 ],
 "metadata": {
  "kernelspec": {
   "display_name": "R",
   "language": "R",
   "name": "ir"
  },
  "language_info": {
   "codemirror_mode": "r",
   "file_extension": ".r",
   "mimetype": "text/x-r-source",
   "name": "R",
   "pygments_lexer": "r",
   "version": "4.2.1"
  }
 },
 "nbformat": 4,
 "nbformat_minor": 5
}
