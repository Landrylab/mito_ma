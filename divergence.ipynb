{
 "cells": [
  {
   "cell_type": "code",
   "execution_count": null,
   "id": "c3a93509-4b40-4cbd-beeb-32736093a0c8",
   "metadata": {},
   "outputs": [],
   "source": [
    "import os\n",
    "import re\n",
    "import random\n",
    "import pandas as pd\n",
    "import numpy as np\n",
    "from scipy import stats\n",
    "import dendropy\n",
    "from Bio import SeqIO\n",
    "from Bio import SeqRecord\n",
    "from Bio import Seq\n",
    "from collections import Counter\n",
    "import itertools\n",
    "from matplotlib import pyplot as plt\n",
    "import seaborn as sns\n",
    "rc_sns = {'ytick_color':'k', 'xtick_color':'k', 'text_color':'k', 'font.sans-serif':'DejaVu Sans', 'figure.facecolor':(1,1,1,1)}\n",
    "sns.set_style(style='ticks', rc=rc_sns)"
   ]
  },
  {
   "cell_type": "markdown",
   "id": "eb74db59-1629-474a-bf99-a4c523c9f904",
   "metadata": {},
   "source": [
    "# Import metadata"
   ]
  },
  {
   "cell_type": "code",
   "execution_count": null,
   "id": "b0e2b2aa-6ab2-4568-a266-f7f34058b5bc",
   "metadata": {},
   "outputs": [],
   "source": [
    "ma_strains = pd.read_csv('/mnt/HDD3/mito_ma/script/ma_strains_mthap.tsv', sep='\\t', index_col=0)\n",
    "parents_dict = {'CC1':('HI.4803.003.N712---N505.LL2011_004', 'NS.1250.002.N712---N505.MSH-587-1'),\n",
    "               'CC2':('HI.4803.003.N711---N508.LL2011_009', 'NS.1250.002.N712---N507.LL2011_012'),\n",
    "               'CC3':('HI.4803.003.N711---N508.LL2011_009', 'NS.1250.002.N712---N506.LL2011_001'),\n",
    "               'BB1':('HI.4803.003.N712---N504.MSH-604', 'HI.4803.003.N712---N508.LL2012_028'),\n",
    "               'BB2':('HI.4803.003.N711---N507.UWOPS-91-202', 'HI.4803.003.N712---N503.LL2012_021'),\n",
    "               'BC1':('HI.4803.003.N712---N504.MSH-604', 'HI.4803.003.N712---N505.LL2011_004'),\n",
    "               'BC2':('HI.4803.003.N711---N507.UWOPS-91-202', 'HI.4803.003.N711---N508.LL2011_009'),\n",
    "               'BA1':('HI.4803.003.N712---N504.MSH-604', 'HI.4803.003.N712---N506.YPS644'),\n",
    "               'BA2':('HI.4803.003.N711---N507.UWOPS-91-202', 'HI.4803.003.N712---N517.YPS744'),\n",
    "               'BSc1':('HI.4803.003.N712---N504.MSH-604', 'HI.4803.003.N712---N507.LL2013_040'),\n",
    "               'BSc2':('HI.4803.003.N711---N507.UWOPS-91-202', 'HI.4803.003.N712---N502.LL2013_054')}\n",
    "cross_color = ma_strains.groupby('cross')['cross_color'].apply(lambda x: x.iloc[0]).to_dict()\n",
    "cross_order = ['CC1','CC2','CC3','BB1','BB2','BC1','BC2','BA1','BA2','BSc1','BSc2']\n",
    "\n",
    "taxa = pd.read_csv('/mnt/HDD3/mito_ma/divergence/taxa.csv', index_col=3)"
   ]
  },
  {
   "cell_type": "markdown",
   "id": "b62a1d49-07b9-4a0e-9a22-ad48be454841",
   "metadata": {},
   "source": [
    "# Nuclear genome"
   ]
  },
  {
   "cell_type": "code",
   "execution_count": null,
   "id": "9643fa3d-f863-46be-84ef-4a6d0c3e51bb",
   "metadata": {},
   "outputs": [],
   "source": [
    "# import orthgroups list\n",
    "all_orthogroups = [f for f in os.listdir('/mnt/HDD1/Dropbox/Spar_orthogroups/All_orthogroups_FASTA/') if re.match('Y.+\\.fasta', f)]"
   ]
  },
  {
   "cell_type": "code",
   "execution_count": null,
   "id": "9950a1c1-e353-4092-9356-d881dcc8a023",
   "metadata": {},
   "outputs": [],
   "source": [
    "# Randomly select a subset of orthogroups\n",
    "random.seed(42)\n",
    "random_orthogroups = random.sample(all_orthogroups, 100)"
   ]
  },
  {
   "cell_type": "code",
   "execution_count": null,
   "id": "560a90c1-d4cd-407a-9665-4b6bd79cb6a7",
   "metadata": {},
   "outputs": [],
   "source": [
    "def get_strain_name(strain):\n",
    "    \n",
    "    m = re.search('/(.+)_200.fa.gtf', strain)\n",
    "    if m:\n",
    "        strain = m.group(1)\n",
    "    else:\n",
    "        m = re.search('/(.+).fa.gtf', strain)\n",
    "        if m:\n",
    "            strain = m.group(1)\n",
    "    if strain+'.fasta' == f:\n",
    "        strain = 'S288c'\n",
    "    \n",
    "    return strain"
   ]
  },
  {
   "cell_type": "code",
   "execution_count": null,
   "id": "f9cb689b-9a35-4970-8ba0-4b1aa2bb77f1",
   "metadata": {},
   "outputs": [],
   "source": [
    "# extract statistics on the selected orthogroups\n",
    "og_summary = []\n",
    "for f in random_orthogroups:\n",
    "    SEQ = list(SeqIO.parse(f'/mnt/HDD1/Dropbox/Spar_orthogroups/All_orthogroups_FASTA/{f}', 'fasta'))\n",
    "    for seq in SEQ:\n",
    "        strain = get_strain_name(seq.id)\n",
    "        length = len(seq.seq)\n",
    "        og_summary.append([f, strain, length])\n",
    "og_summary = pd.DataFrame(og_summary, columns=['gene', 'strain', 'length'])\n",
    "\n",
    "og_summary = og_summary.pivot_table(index='gene', columns='strain', values='length')\n",
    "og_summary.dropna(axis=0, inplace=True)\n",
    "# exclude far-east strain and SpC*\n",
    "og_summary.drop(['N-44','C03','A04','B03'], axis=1, inplace=True)"
   ]
  },
  {
   "cell_type": "code",
   "execution_count": null,
   "id": "9aa6cc52-b047-4547-be40-3b97b31aae90",
   "metadata": {},
   "outputs": [],
   "source": [
    "# concatenate orthogroup sequences for nucelar genes\n",
    "#initialize concatenated sequences\n",
    "concat_nuc = {strain:SeqRecord.SeqRecord(seq='', id=strain, description='') for strain in og_summary.columns}\n",
    "for f in og_summary.index:\n",
    "    SEQ = list(SeqIO.parse(f'/mnt/HDD1/Dropbox/Spar_orthogroups/All_orthogroups_FASTA/{f}', 'fasta'))\n",
    "    if len(SEQ) == 30:\n",
    "        if len(set([len(seq.seq) for seq in SEQ])) == 1:\n",
    "            for seq in SEQ:\n",
    "                # parse strain name from fasta entries\n",
    "                strain = get_strain_name(seq.id)\n",
    "                if strain in concat_nuc:\n",
    "                    #append sequence\n",
    "                    concat_nuc[strain].seq += seq.seq\n",
    "\n",
    "#with open('/mnt/HDD3/mito_ma/divergence/nuc_random_orthogroups.fasta', 'w') as handle:\n",
    "#    SeqIO.write(concat_nuc.values(), handle, 'fasta')"
   ]
  },
  {
   "cell_type": "code",
   "execution_count": null,
   "id": "9da6fb97-5c21-446f-8405-abbb62dadc97",
   "metadata": {},
   "outputs": [],
   "source": [
    "# parse the tree produced by RAxML\n",
    "parents_tree = dendropy.Tree.get(path='/mnt/HDD3/mito_ma/divergence/raxml.support.renamed', schema='newick')\n",
    "parents_tree.phylogenetic_distance_matrix().as_data_table().write_csv(out='/mnt/HDD3/mito_ma/divergence/nuc_pairwise_divergence.csv')\n",
    "parents_dist_matrix = pd.read_csv('/mnt/HDD3/mito_ma/divergence/nuc_pairwise_divergence.csv', index_col=0)"
   ]
  },
  {
   "cell_type": "markdown",
   "id": "dfe1d7da-0b21-4907-9198-30c19e265897",
   "metadata": {},
   "source": [
    "# Mitochondrial genome"
   ]
  },
  {
   "cell_type": "code",
   "execution_count": null,
   "id": "5f2032f0-008b-45e9-902e-95202fcf46d8",
   "metadata": {},
   "outputs": [],
   "source": [
    "# list file names for the mitochondrial gene alignments\n",
    "mito_genes = ['atp6.anchor.aln.fasta',\n",
    "              'atp8.anchor.aln.fasta',\n",
    "              'atp9.anchor.aln.fasta',\n",
    "              'cob.spliced.aln.MSH-604.fasta',\n",
    "              'cox1.spliced.aln.fasta',\n",
    "              'cox2.anchor.aln.fasta',\n",
    "              'cox3.anchor.aln.fasta',\n",
    "              'rps3.anchor.aln.fasta']"
   ]
  },
  {
   "cell_type": "code",
   "execution_count": null,
   "id": "38586dc2-435b-4e14-92a7-97275701ade4",
   "metadata": {},
   "outputs": [],
   "source": [
    "# concatenate orthogroup sequences for nucelar genes\n",
    "#initialize concatenated sequences\n",
    "concat_mt = {strain:SeqRecord.SeqRecord(seq='', id=strain, description='') for strain in ma_strains.loc[ma_strains['cross']=='P', 'strain'].values}\n",
    "for f in mito_genes:\n",
    "    SEQ = list(SeqIO.parse(f'/mnt/HDD3/mito_nanopore/muscle/aln/{f}', 'fasta'))\n",
    "    if len(SEQ) == 13:\n",
    "        if len(set([len(seq.seq) for seq in SEQ])) == 1:\n",
    "            for seq in SEQ:\n",
    "                strain = seq.id.split('.')[2]\n",
    "                if strain in concat_mt:\n",
    "                    #append sequence\n",
    "                    concat_mt[strain].seq += seq.seq\n",
    "                else:\n",
    "                    print(f, ' no ', strain)\n",
    "\n",
    "#with open('/mnt/HDD3/mito_ma/divergence/mt_orthogroups.fasta', 'w') as handle:\n",
    "#    SeqIO.write(concat_mt.values(), handle, 'fasta')"
   ]
  },
  {
   "cell_type": "code",
   "execution_count": null,
   "id": "aa75345a-c837-49c7-b28d-b8662eaedb2b",
   "metadata": {},
   "outputs": [],
   "source": [
    "#parse tree\n",
    "mt_tree = dendropy.Tree.get(path='/mnt/HDD3/mito_ma/divergence/mt_orthogroups.fasta.raxml.support', schema='newick')\n",
    "mt_tree.phylogenetic_distance_matrix().as_data_table().write_csv(out='/mnt/HDD3/mito_ma/divergence/mt_pairwise_divergence.csv')\n",
    "mt_dist_matrix = pd.read_csv('/mnt/HDD3/mito_ma/divergence/mt_pairwise_divergence.csv', index_col=0)\n",
    "mt_dist_matrix.index = [i.replace(' ', '_') for i in mt_dist_matrix.index]\n",
    "mt_dist_matrix.columns = [i.replace(' ', '_') for i in mt_dist_matrix.columns]"
   ]
  },
  {
   "cell_type": "code",
   "execution_count": null,
   "id": "2d3e5bf9-9e4d-43dd-bd48-9b2d1c82e494",
   "metadata": {},
   "outputs": [],
   "source": [
    "#compute distances for crosses\n",
    "dist_per_cross = []\n",
    "#for cross in ['CC', 'BB', 'BC', 'BA', 'BSc']:\n",
    "for cross, (p1, p2) in parents_dict.items():\n",
    "    \n",
    "    # mito distance\n",
    "    p1, p2 = [p.split('.')[-1] for p in (p1, p2)]\n",
    "    mt_dist = mt_dist_matrix.loc[p1, p2]\n",
    "    \n",
    "    # nuc distance\n",
    "    nuc_dist = []\n",
    "    Cross = cross[:-1]\n",
    "    g1, g2 = Cross[0], Cross[1:]\n",
    "    P1 = taxa.loc[g1, 'strain_id']\n",
    "    P2 = taxa.loc[g2, 'strain_id']\n",
    "    \n",
    "    for i,j in itertools.product(P1, P2):\n",
    "        if i != j and [i, j] == sorted([i,j]):\n",
    "            nuc_dist.append(parents_dist_matrix.loc[i,j])\n",
    "    nuc_dist = np.mean(nuc_dist)\n",
    "    \n",
    "    dist_per_cross.append([cross, Cross, mt_dist, nuc_dist])\n",
    "dist_per_cross = pd.DataFrame(dist_per_cross, columns=['cross', 'Cross', 'mt_dist', 'nuc_dist'])\n",
    "dist_per_cross['ratio'] = dist_per_cross['nuc_dist']/dist_per_cross['mt_dist']"
   ]
  },
  {
   "cell_type": "markdown",
   "id": "8c3970f9-f0cf-4f95-9965-5bd26ad2bcb6",
   "metadata": {},
   "source": [
    "# Fig S15"
   ]
  },
  {
   "cell_type": "code",
   "execution_count": null,
   "id": "f8ef103f-065b-47b3-8609-70feeaa5efec",
   "metadata": {},
   "outputs": [],
   "source": [
    "fig, axes = plt.subplots(nrows=2, figsize=[3,6], \n",
    "                         gridspec_kw=dict(hspace=0.4, height_ratios=[3,2], left=0.28, right=0.93, top=0.82, bottom=0.12))\n",
    "ax = axes[0]\n",
    "sns.scatterplot(x='nuc_dist', y='mt_dist', hue='cross', palette=cross_color, data=dist_per_cross, ax=ax)\n",
    "ax.set_xlabel('nuc divergence (subs site$^{-1}$)')\n",
    "ax.set_ylabel('mt divergence\\n(subs site$^{-1}$)')\n",
    "ax.legend(loc=6, bbox_to_anchor=[-0.05,1.25], ncol=3, frameon=False, handlelength=0.3)\n",
    "\n",
    "ax = axes[1]\n",
    "ax.bar(dist_per_cross['cross'], dist_per_cross['ratio'], color=[cross_color[cross] for cross in cross_order],  width=0.5)\n",
    "ax.set_xlabel('')\n",
    "ax.set_xticklabels(cross_order, rotation=90)\n",
    "ax.set_ylabel('divergence ratio\\n(nuc/mt)')\n",
    "\n",
    "fig.text(0.01, 0.93, 'C', weight='bold', size=24)\n",
    "fig.text(0.01, 0.35, 'D', weight='bold', size=24)\n",
    "\n",
    "sns.despine()\n",
    "#plt.savefig('/home/mathieu/mhenault_landrylab/Publications/mito_ma/resubmission2_GRes/fig/mito_nuc_divergence_CD.svg')\n",
    "#plt.show()\n",
    "plt.close()"
   ]
  }
 ],
 "metadata": {
  "kernelspec": {
   "display_name": "Python 3 (ipykernel)",
   "language": "python",
   "name": "python3"
  },
  "language_info": {
   "codemirror_mode": {
    "name": "ipython",
    "version": 3
   },
   "file_extension": ".py",
   "mimetype": "text/x-python",
   "name": "python",
   "nbconvert_exporter": "python",
   "pygments_lexer": "ipython3",
   "version": "3.9.13"
  }
 },
 "nbformat": 4,
 "nbformat_minor": 5
}
