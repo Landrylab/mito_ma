{
 "cells": [
  {
   "cell_type": "code",
   "execution_count": null,
   "id": "74cdaa41-b190-4965-9564-efdeb6a8ce20",
   "metadata": {},
   "outputs": [],
   "source": [
    "import pandas as pd\n",
    "from Bio import SeqIO\n",
    "import itertools\n",
    "from collections import Counter\n",
    "from matplotlib import pyplot as plt\n",
    "import seaborn as sns\n",
    "rc_sns = {'ytick_color':'k', 'xtick_color':'k', 'text_color':'k', 'font.sans-serif':'DejaVu Sans', 'figure.facecolor':(1,1,1,1)}\n",
    "sns.set_style(style='ticks', rc=rc_sns)"
   ]
  },
  {
   "cell_type": "markdown",
   "id": "88d75ae3-996d-416e-95ef-0c714f89d3b1",
   "metadata": {},
   "source": [
    "# Import metadata"
   ]
  },
  {
   "cell_type": "code",
   "execution_count": null,
   "id": "4f1dab67-30a5-43f6-a62a-760950cb9c88",
   "metadata": {},
   "outputs": [],
   "source": [
    "assemblies = pd.read_csv('/mnt/HDD3/mito_nanopore/leducq/assemblies.csv').set_index('strain')\n",
    "assemblies['atp6'] = [f'{s}.atp6.fasta' for s in assemblies.index]"
   ]
  },
  {
   "cell_type": "code",
   "execution_count": null,
   "id": "db0b7ee3-ddda-4bbf-8a67-005b70b6947b",
   "metadata": {},
   "outputs": [],
   "source": [
    "assemblies_alias = dict()\n",
    "assemblies_alias.update({g:g.split('.')[0]+'\\nnanopore' for g in assemblies['nanopore']})\n",
    "assemblies_alias.update({g:g.split('.')[0]+'\\nillumina' for g in assemblies['atp6']})"
   ]
  },
  {
   "cell_type": "markdown",
   "id": "c5a24627-54e9-4347-80c5-d1ecc7d279a2",
   "metadata": {},
   "source": [
    "# Assembly comparisons with dnadiff"
   ]
  },
  {
   "cell_type": "code",
   "execution_count": null,
   "id": "02fe77dc-509e-4ded-98ab-11be23bfb3ae",
   "metadata": {},
   "outputs": [],
   "source": [
    "#export comparisons to be made with dnadiff\n",
    "comp = []\n",
    "for (i,j) in itertools.combinations(list(assemblies['nanopore']) + list(assemblies['atp6']), 2):\n",
    "    comp.append('\\t'.join([i, j, f'{i[:-6]}_{j[:-6]}']))\n",
    "#with open('/mnt/HDD3/mito_nanopore/leducq/comparisons.tsv', 'w') as handle:\n",
    "#    handle.write('\\n'.join(comp))"
   ]
  },
  {
   "cell_type": "code",
   "execution_count": null,
   "id": "6e92a759-a03a-4892-8286-77ee593d8aa1",
   "metadata": {},
   "outputs": [],
   "source": [
    "comp = pd.read_csv('/mnt/HDD3/mito_nanopore/leducq/comparisons.tsv', sep='\\t', header=None)"
   ]
  },
  {
   "cell_type": "code",
   "execution_count": null,
   "id": "f24324db-5984-4a1d-bbcc-88abc071c0e6",
   "metadata": {},
   "outputs": [],
   "source": [
    "#import genomes\n",
    "genomes = {}\n",
    "for g in assemblies['atp6'].values:\n",
    "    genomes[g] = SeqIO.read(f'/mnt/HDD3/mito_nanopore/leducq/{g}', 'fasta')\n",
    "for g in assemblies['nanopore'].values:\n",
    "    genomes[g] = SeqIO.read(f'/mnt/HDD3/mito_nanopore/leducq/{g}', 'fasta')"
   ]
  },
  {
   "cell_type": "code",
   "execution_count": null,
   "id": "8de53580-54d4-4f05-8495-f4c2a552b20b",
   "metadata": {},
   "outputs": [],
   "source": [
    "# compute statistics\n",
    "comp_stats = []\n",
    "for i in comp.index:\n",
    "    genome1, genome2, name = comp.loc[i]\n",
    "    snps = pd.read_csv(f'/mnt/HDD3/mito_nanopore/leducq/{name}.snps', sep='\\t', header=None)\n",
    "    snps['snp'] = snps.apply(lambda x: '.' not in x[[1,2]].values, axis=1)\n",
    "    snps['ins'] = snps[1]=='.'\n",
    "    snps['del'] = snps[2]=='.'\n",
    "    snp_count = snps.value_counts('snp')[True]\n",
    "    ins_count = snps.value_counts('ins')[True]\n",
    "    del_count = snps.value_counts('del')[True]\n",
    "    \n",
    "    with open(f'/mnt/HDD3/mito_nanopore/leducq/{name}.rdiff', 'r') as handle:\n",
    "        rdiff = Counter([line.split('\\t')[1] for line in handle.read().splitlines()])\n",
    "    gap_count = rdiff['GAP']\n",
    "    \n",
    "    comp_stats.append([genome1, genome2, name, snp_count, ins_count, del_count, gap_count])\n",
    "\n",
    "comp_stats = pd.DataFrame(comp_stats, columns=['genome1', 'genome2', 'name', 'snp_count', 'ins_count', 'del_count', 'gap_count'])\n",
    "comp_stats['size_diff'] = comp_stats.apply(lambda x: len(genomes[x['genome1']].seq)-len(genomes[x['genome2']].seq), axis=1)\n",
    "comp_stats['indel_count'] = comp_stats['ins_count'] + comp_stats['del_count']"
   ]
  },
  {
   "cell_type": "markdown",
   "id": "e336960c-e5c1-414c-b73f-51342318638f",
   "metadata": {},
   "source": [
    "# Fig S2"
   ]
  },
  {
   "cell_type": "code",
   "execution_count": null,
   "id": "2a2f80ca-c4cf-4fdb-8cd4-a9387b7b35d1",
   "metadata": {},
   "outputs": [],
   "source": [
    "fig = plt.figure(figsize=[8,8])\n",
    "gs = plt.GridSpec(ncols=2, nrows=2, left=0.15, right=0.96, bottom=0.15, top=0.94,\n",
    "                  hspace=0.6, wspace=0.6)\n",
    "m_alias = {'snp_count':'single nucleotide variants',\n",
    "           'indel_count': 'single nucleotide indels',\n",
    "           'gap_count':'gaps',\n",
    "           'size_diff':'size difference'}\n",
    "for m, ax_idx in zip(['snp_count', 'indel_count', 'gap_count', 'size_diff'], \n",
    "                    itertools.product([0,1], [0,1])):\n",
    "    ax = fig.add_subplot(gs[ax_idx])\n",
    "    \n",
    "    df = comp_stats.pivot_table(index='genome1', columns='genome2', values=m, aggfunc=lambda x: x)\n",
    "    df = df.loc[assemblies['nanopore'], assemblies['atp6']]\n",
    "    if m == 'size_diff':\n",
    "        sns.heatmap(df, ax=ax, cmap='bwr', center=0, annot=True, fmt='.0f', cbar=False)\n",
    "    else:\n",
    "        sns.heatmap(df, ax=ax, cmap='Blues', annot=True, fmt='.0f', cbar=False)\n",
    "    ax.set_yticklabels(assemblies['nanopore'].apply(lambda x: assemblies_alias[x]), rotation=45, va='top')\n",
    "    ax.set_ylabel('')\n",
    "    ax.set_xticklabels(assemblies['atp6'].apply(lambda x: assemblies_alias[x]), rotation=45, ha='right')\n",
    "    ax.set_xlabel('')\n",
    "    ax.set_title(m_alias[m], size=14)\n",
    "    \n",
    "fig.text(0.02, 0.95, 'A', size=24, weight='bold')\n",
    "fig.text(0.52, 0.95, 'B', size=24, weight='bold')\n",
    "fig.text(0.02, 0.47, 'C', size=24, weight='bold')\n",
    "fig.text(0.52, 0.47, 'D', size=24, weight='bold')\n",
    "    \n",
    "#plt.show()\n",
    "#plt.savefig('/home/mathieu/mhenault_landrylab/Publications/mito_ma/resubmission2_GRes/fig/assembly_comparison.svg')\n",
    "plt.close()"
   ]
  }
 ],
 "metadata": {
  "kernelspec": {
   "display_name": "Python 3 (ipykernel)",
   "language": "python",
   "name": "python3"
  },
  "language_info": {
   "codemirror_mode": {
    "name": "ipython",
    "version": 3
   },
   "file_extension": ".py",
   "mimetype": "text/x-python",
   "name": "python",
   "nbconvert_exporter": "python",
   "pygments_lexer": "ipython3",
   "version": "3.9.13"
  }
 },
 "nbformat": 4,
 "nbformat_minor": 5
}
